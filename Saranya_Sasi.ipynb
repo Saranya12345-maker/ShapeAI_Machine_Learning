{
  "nbformat": 4,
  "nbformat_minor": 0,
  "metadata": {
    "colab": {
      "name": "Saranya_Sasi.ipynb",
      "provenance": [],
      "collapsed_sections": []
    },
    "kernelspec": {
      "name": "python3",
      "display_name": "Python 3"
    },
    "language_info": {
      "name": "python"
    }
  },
  "cells": [
    {
      "cell_type": "code",
      "metadata": {
        "id": "6IMsQ_43KTWq"
      },
      "source": [
        "import numpy as np\n",
        "import pandas as pd\n",
        "import sklearn\n"
      ],
      "execution_count": null,
      "outputs": []
    },
    {
      "cell_type": "code",
      "metadata": {
        "id": "-biSLr42KnrX"
      },
      "source": [
        "import load_boston\n",
        "df = load_boston()"
      ],
      "execution_count": null,
      "outputs": []
    },
    {
      "cell_type": "code",
      "metadata": {
        "id": "m-0b2evQK5_D"
      },
      "source": [
        "df.keys()\n",
        "dict_keys(['data','target','feature_names','DESCR','filename'])\n"
      ],
      "execution_count": null,
      "outputs": []
    },
    {
      "cell_type": "code",
      "metadata": {
        "id": "vpsyr7feLwOy"
      },
      "source": [
        "print(df.DESCR)\n",
        "boston = pd.DataFrame(df.data)\n",
        "columns = df.feature_names\n",
        "boston.head()\n",
        "df.keys()\n",
        "dict_keys(['data','target','feature_names','DESCR','filenames'])\n",
        "print(df.feature_names)\n",
        "['CRIM' 'ZN' 'INDUS' 'CHAS' 'NOX' 'RM' 'AGE' 'DIS' 'RAD' 'TAX' 'PTRATIO' 'B' 'LSTAT']\n",
        "\n"
      ],
      "execution_count": null,
      "outputs": []
    },
    {
      "cell_type": "code",
      "metadata": {
        "id": "W5gC3lsYNiud"
      },
      "source": [
        "boston = pd.DataFrame(df.data,columns= = df.feature_names)\n",
        "boston.head()\n",
        "df.keys()\n",
        "dict_keys[('data','target','feature_names','DESCR','filenames'])\n",
        "print(df.filename)"
      ],
      "execution_count": null,
      "outputs": []
    },
    {
      "cell_type": "code",
      "metadata": {
        "id": "FT3t0_lBQ-N0"
      },
      "source": [
        "boston = pd.DataFrame(df.data,columns= = df.feature_names)\n",
        "from sklearn.datasets\n",
        "import load_boston()\n",
        "df.keys()\n",
        "dict_keys(['data','target','feature_names','DESCR,'fileneme'])\n",
        "print(df.target)\n",
        "print(df.data)\n"
      ],
      "execution_count": null,
      "outputs": []
    },
    {
      "cell_type": "code",
      "metadata": {
        "id": "ctNw9djgR_JD"
      },
      "source": [
        "boston = pd.DataFrame(df.data,columns = df.feature_names)\n",
        "boston_head()\n",
        "boston['MEDV'] = df.target\n",
        "boston.head()\n",
        "boston.isnull()\n"
      ],
      "execution_count": null,
      "outputs": []
    },
    {
      "cell_type": "code",
      "metadata": {
        "id": "Y73vN61WSqdy"
      },
      "source": [
        "from sklearn.model_selection\n",
        " import train_test_split\n",
        " X = boston.drop('MEDV',axis=1)\n",
        " y = boston['MEDV']\n",
        " X_train,X_test,Y_train,Y_test = train_test_split(X,Y,test_size=0.15)\n",
        " print(X_train.shape)\n",
        " print(X_test.shape)\n",
        " print(Y_train.shape)\n",
        " print(Y_test.shape)\n",
        " \n"
      ],
      "execution_count": null,
      "outputs": []
    },
    {
      "cell_type": "code",
      "metadata": {
        "id": "mEzYfkqbVw9k"
      },
      "source": [
        "from sklearn.linear_model\n",
        "import LinearRegression\n"
      ],
      "execution_count": null,
      "outputs": []
    },
    {
      "cell_type": "code",
      "metadata": {
        "id": "pNJsc6UHV9OU"
      },
      "source": [
        "from sklearn.metrics\n",
        "import mean_squared_error\n",
        "x = boston_drop('MEDV',axis = 1)\n",
        "X_train,X_test,Y_train,Y_test = train_test_split\n",
        "(X,Y,test_size = 0.15)\n",
        "lin_model = LinearRegression()\n",
        "lin_model.fit(X_train,Y_train)\n",
        "fit_intercept = True,n_jobs = None,normalsize = 0.15\n",
        "Y_train_predict = lin_model.predict(X_train)\n",
        "rmse = (np.sqrt(mean_squared_error(Y_train,Y_train_predict)))\n",
        "print(\"The model performance for training set\")\n",
        "print(\"RMSE is {},format(rmse)\")\n",
        "print(\"\\n\")\n",
        "\n"
      ],
      "execution_count": null,
      "outputs": []
    },
    {
      "cell_type": "code",
      "metadata": {
        "id": "wr-juP7PYWjI"
      },
      "source": [
        "Y_test_predict = lin_model.predict(X_test)\n",
        "rmse = (np.sqrt(mean_squared_error(Y_test,Y_test_predict)))\n",
        "print(\"The model performance for testing set\")\n",
        "print('rmse is {}'.format(rmse))\n",
        "print(\"\\n\")\n"
      ],
      "execution_count": null,
      "outputs": []
    }
  ]
}